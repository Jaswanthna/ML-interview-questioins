{
 "cells": [
  {
   "cell_type": "markdown",
   "metadata": {},
   "source": [
    "#### 1. What Are the Basic Assumption?\n",
    "\n",
    " There are four assumptions associated with a linear regression model:\n",
    "\n",
    " 1.Linearity: The relationship between X and the mean of Y is linear.\n",
    " \n",
    " 2.Homoscedasticity: The variance of residual is the same for any value of X.\n",
    " \n",
    " 3.Independence: Observations are independent of each other.\n",
    " \n",
    " 4.Normality: For any fixed value of X, Y is normally distributed.\""
   ]
  },
  {
   "cell_type": "markdown",
   "metadata": {},
   "source": [
    "#### 2. Advantages"
   ]
  },
  {
   "cell_type": "markdown",
   "metadata": {},
   "source": [
    "\n",
    "1.Linear regression performs exceptionally well for linearly separable data\n",
    "\n",
    "2.Easy to implement and train the model\n",
    "\n",
    "3.It can handle overfitting using dimensionlity reduction techniques and cross validation and regularization"
   ]
  },
  {
   "cell_type": "markdown",
   "metadata": {},
   "source": [
    "#### 3. Disadvantages\n",
    "1.Sometimes Lot of Feature Engineering Is required\n",
    "\n",
    "2.If the independent features are correlated it may affect performance\n",
    "\n",
    "3.It is often quite prone to noise and overfitting"
   ]
  },
  {
   "cell_type": "markdown",
   "metadata": {},
   "source": [
    "#### 4. Whether Feature Scaling is required?\n",
    "Yes\n",
    "\n",
    "#### 5. Impact of Missing Values?\n",
    "It is sensitive to missing values\n",
    "\n",
    "#### 6. Impact of outliers?\n",
    "linear regression needs the relationship between the independent and dependent variables to be linear. It is also important to check for outliers since linear regression is sensitive to outlier effects.\n",
    "\n"
   ]
  },
  {
   "cell_type": "markdown",
   "metadata": {},
   "source": [
    "#### 7. Diffrence between R-Squared and Adj R-Squared\n",
    "\n",
    "The major difference between R-squared and adjusted R-squared is that R-squared does not penalise the model for having more number of variables. Thus, if you keep on adding variables to the model, the R-squared will always increase (or remain the same when the value of the correlation between that variable and the dependent variable is 0). Thus, R-squared assumes that any variable added to the model will increase the predictive power.\n",
    "\n",
    "Adjusted R-squared, on the other hand, penalises models on the basis of the number of variables present in them. So, if you add a variable and the adjusted R-squared drops, you can be certain that that variable is insignificant to the model and should not be used. Thus, in the case of multiple linear regression, you should always look at the adjusted R-squared value in order to keep redundant variables out of your regression model."
   ]
  },
  {
   "cell_type": "markdown",
   "metadata": {},
   "source": [
    " #### how does the RFE measure the importance of the variable?\n",
    " \n",
    " Recursive feature elimination is based on the idea of repeatedly constructing a model (for example, an SVM or a regression model) and choosing either the best or the worst performing feature (for example, based on coefficients), setting the feature aside and then repeating the process with the rest of the features. This process is applied until all the features in the data set are exhausted. Features are then ranked according to when they were eliminated. As such, it is a greedy optimisation for finding the best performing subset of features.\n",
    "    \n",
    "    "
   ]
  },
  {
   "cell_type": "markdown",
   "metadata": {},
   "source": [
    "link : http://blog.datadive.net/selecting-good-features-part-iv-stability-selection-rfe-and-everything-side-by-side/"
   ]
  },
  {
   "cell_type": "code",
   "execution_count": null,
   "metadata": {},
   "outputs": [],
   "source": []
  }
 ],
 "metadata": {
  "kernelspec": {
   "display_name": "Python 3",
   "language": "python",
   "name": "python3"
  },
  "language_info": {
   "codemirror_mode": {
    "name": "ipython",
    "version": 3
   },
   "file_extension": ".py",
   "mimetype": "text/x-python",
   "name": "python",
   "nbconvert_exporter": "python",
   "pygments_lexer": "ipython3",
   "version": "3.8.5"
  }
 },
 "nbformat": 4,
 "nbformat_minor": 4
}
